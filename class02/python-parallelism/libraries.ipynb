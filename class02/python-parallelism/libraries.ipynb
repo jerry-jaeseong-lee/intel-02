{
 "cells": [
  {
   "cell_type": "markdown",
   "metadata": {},
   "source": [
    "# Libraries\n",
    "\n",
    "본 실습에서는 다음 두개의 Python 라이브러리들을 사용합니다.\n",
    "\n",
    "1. tqdm: 프로그레스바를 표시해 주는 라이브러리 ([참조링크](https://github.com/tqdm/tqdm))\n",
    "\n",
    "1. pytube: YouTube에서 video 컨텐츠를 다운로드 할 수 있도록 해주는 라이브러리 ([참조링크](https://pytube.io/en/latest/index.html))"
   ]
  },
  {
   "cell_type": "markdown",
   "metadata": {},
   "source": [
    "## tqdm Overview"
   ]
  },
  {
   "cell_type": "code",
   "execution_count": 1,
   "metadata": {},
   "outputs": [],
   "source": [
    "from tqdm import tqdm\n",
    "from tqdm import trange\n",
    "from time import sleep"
   ]
  },
  {
   "cell_type": "code",
   "execution_count": 2,
   "metadata": {},
   "outputs": [
    {
     "name": "stderr",
     "output_type": "stream",
     "text": [
      "100%|██████████| 100/100 [00:05<00:00, 19.57it/s]\n"
     ]
    }
   ],
   "source": [
    "# 다음 코드는 0.05초 마다 한번 씩 프로그레스 바를 업데이트 합니다.\n",
    "for _ in tqdm(range(100)):\n",
    "    sleep(0.05)"
   ]
  },
  {
   "cell_type": "code",
   "execution_count": 3,
   "metadata": {},
   "outputs": [
    {
     "name": "stderr",
     "output_type": "stream",
     "text": [
      "100%|██████████| 100/100 [00:01<00:00, 97.86it/s]\n"
     ]
    }
   ],
   "source": [
    "# tqdm을 객체로 선언하고 update()를 호출해서 프로그레스를 업데이트 할 수도 있습니다.\n",
    "pbar = tqdm(total=100)\n",
    "\n",
    "for _ in range(10):\n",
    "    sleep(0.1)\n",
    "    pbar.update(10)\n",
    "pbar.close()\n"
   ]
  },
  {
   "cell_type": "code",
   "execution_count": 4,
   "metadata": {},
   "outputs": [
    {
     "name": "stderr",
     "output_type": "stream",
     "text": [
      "100%|██████████| 100/100 [00:01<00:00, 97.96it/s]\n"
     ]
    }
   ],
   "source": [
    "# 혹은, with keyword를 사용해서 close() 호출을 없앨 수도 있습니다.\n",
    "with tqdm(total=100) as qbar:\n",
    "    for _ in range(10):\n",
    "        sleep(0.1)\n",
    "        qbar.update(10)"
   ]
  },
  {
   "cell_type": "markdown",
   "metadata": {},
   "source": [
    "## pytube overview\n",
    "시간이 오래 걸리는 일을 모사하기 위해 pytube로 YouTube video를 다운로드 하는 경우를 가정했습니다.\n"
   ]
  },
  {
   "cell_type": "code",
   "execution_count": 23,
   "metadata": {},
   "outputs": [],
   "source": [
    "from pytube import YouTube\n",
    "from IPython.display import Image"
   ]
  },
  {
   "cell_type": "code",
   "execution_count": 24,
   "metadata": {},
   "outputs": [],
   "source": [
    "# YouTube clip links\n",
    "\n",
    "# 과학쿠키 - 초전도체\n",
    "super_conductor = \"https://www.youtube.com/watch?v=d_F7MVuJJu8\"\n",
    "\n",
    "# 8마일 랩배틀 에미넴모음, 연령제한\n",
    "eight_miles = \"https://www.youtube.com/watch?v=tWFejQSKIYg\"\n",
    "\n",
    "# IVE 아이브 'I AM' MV \n",
    "ive_mv = \"https://www.youtube.com/watch?v=6ZUIwj3FgUY&list=PLObJu56es5eN3sNytFyk7CA3HKgXoRvf6\""
   ]
  },
  {
   "cell_type": "code",
   "execution_count": 25,
   "metadata": {},
   "outputs": [],
   "source": [
    "\n",
    "url = ive_mv\n",
    "youtube_clip = YouTube(url) # 유튜브 객체 생성"
   ]
  },
  {
   "cell_type": "code",
   "execution_count": 26,
   "metadata": {},
   "outputs": [
    {
     "name": "stdout",
     "output_type": "stream",
     "text": [
      "제목:\tI AM\n",
      "설명:\t<없음>\n",
      "길이:\t약 3분\n",
      "연령제한:\t없음\n",
      "https://i.ytimg.com/vi/6ZUIwj3FgUY/hq720.jpg?sqp=-oaymwEXCNUGEOADIAQqCwjVARCqCBh4INgESFo&rs=AOn4CLAbiga7YTfXymBrimS9Q0PtbQP7yA\n"
     ]
    }
   ],
   "source": [
    "# Video clip에 대한 더 많은 정보는 다음의 링크를 참조 하세요.\n",
    "# https://pytube.io/en/latest/api.html?highlight=author#youtube-object\n",
    "print(f\"제목:\\t{youtube_clip.title}\")\n",
    "print(f\"설명:\\t\" \"<없음>\" if youtube_clip.description is None else \"f{youtube_clip.description}\")\n",
    "print(f\"길이:\\t약 {youtube_clip.length//60}분\")     # /는 밑에 소수점이 나오고 //는 밑에 소수점을 버린 정수형으로 표현\n",
    "print(f\"연령제한:\\t\" \"없음\" if youtube_clip.age_restricted is False else \"<제한됨>\")\n",
    "\n",
    "Image(url=youtube_clip.thumbnail_url, width=500)\n",
    "print(f\"{youtube_clip.thumbnail_url}\")  # 유튜브 객체 썸네일\n",
    "\n",
    "# 유튜브 객체 youtube_clip의 정보들을 확인 가능 (위에는 간단한것들이 더 많은 정보들을 볼수있다.)"
   ]
  },
  {
   "cell_type": "code",
   "execution_count": 27,
   "metadata": {},
   "outputs": [
    {
     "ename": "AgeRestrictedError",
     "evalue": "6ZUIwj3FgUY is age restricted, and can't be accessed without logging in.",
     "output_type": "error",
     "traceback": [
      "\u001b[0;31m---------------------------------------------------------------------------\u001b[0m",
      "\u001b[0;31mAgeRestrictedError\u001b[0m                        Traceback (most recent call last)",
      "Cell \u001b[0;32mIn[27], line 2\u001b[0m\n\u001b[1;32m      1\u001b[0m \u001b[39m# Streams\u001b[39;00m\n\u001b[0;32m----> 2\u001b[0m \u001b[39mfor\u001b[39;00m item \u001b[39min\u001b[39;00m \u001b[39menumerate\u001b[39m(youtube_clip\u001b[39m.\u001b[39;49mstreams): \u001b[39m# streams의 목록들을 인덱스와 item로 반환\u001b[39;00m\n\u001b[1;32m      3\u001b[0m     \u001b[39mprint\u001b[39m(\u001b[39mf\u001b[39m\u001b[39m\"\u001b[39m\u001b[39m[1]: \u001b[39m\u001b[39m{\u001b[39;00mitem\u001b[39m}\u001b[39;00m\u001b[39m\"\u001b[39m)   \u001b[39m# [1] {i}\u001b[39;00m\n",
      "File \u001b[0;32m~/Desktop/intel/kcci.intel.ai.project/.venv/lib/python3.10/site-packages/pytube/__main__.py:296\u001b[0m, in \u001b[0;36mYouTube.streams\u001b[0;34m(self)\u001b[0m\n\u001b[1;32m    291\u001b[0m \u001b[39m\u001b[39m\u001b[39m\"\"\"Interface to query both adaptive (DASH) and progressive streams.\u001b[39;00m\n\u001b[1;32m    292\u001b[0m \n\u001b[1;32m    293\u001b[0m \u001b[39m:rtype: :class:`StreamQuery <StreamQuery>`.\u001b[39;00m\n\u001b[1;32m    294\u001b[0m \u001b[39m\"\"\"\u001b[39;00m\n\u001b[1;32m    295\u001b[0m \u001b[39mself\u001b[39m\u001b[39m.\u001b[39mcheck_availability()\n\u001b[0;32m--> 296\u001b[0m \u001b[39mreturn\u001b[39;00m StreamQuery(\u001b[39mself\u001b[39;49m\u001b[39m.\u001b[39;49mfmt_streams)\n",
      "File \u001b[0;32m~/Desktop/intel/kcci.intel.ai.project/.venv/lib/python3.10/site-packages/pytube/__main__.py:176\u001b[0m, in \u001b[0;36mYouTube.fmt_streams\u001b[0;34m(self)\u001b[0m\n\u001b[1;32m    172\u001b[0m     \u001b[39mreturn\u001b[39;00m \u001b[39mself\u001b[39m\u001b[39m.\u001b[39m_fmt_streams\n\u001b[1;32m    174\u001b[0m \u001b[39mself\u001b[39m\u001b[39m.\u001b[39m_fmt_streams \u001b[39m=\u001b[39m []\n\u001b[0;32m--> 176\u001b[0m stream_manifest \u001b[39m=\u001b[39m extract\u001b[39m.\u001b[39mapply_descrambler(\u001b[39mself\u001b[39;49m\u001b[39m.\u001b[39;49mstreaming_data)\n\u001b[1;32m    178\u001b[0m \u001b[39m# If the cached js doesn't work, try fetching a new js file\u001b[39;00m\n\u001b[1;32m    179\u001b[0m \u001b[39m# https://github.com/pytube/pytube/issues/1054\u001b[39;00m\n\u001b[1;32m    180\u001b[0m \u001b[39mtry\u001b[39;00m:\n",
      "File \u001b[0;32m~/Desktop/intel/kcci.intel.ai.project/.venv/lib/python3.10/site-packages/pytube/__main__.py:160\u001b[0m, in \u001b[0;36mYouTube.streaming_data\u001b[0;34m(self)\u001b[0m\n\u001b[1;32m    158\u001b[0m     \u001b[39mreturn\u001b[39;00m \u001b[39mself\u001b[39m\u001b[39m.\u001b[39mvid_info[\u001b[39m'\u001b[39m\u001b[39mstreamingData\u001b[39m\u001b[39m'\u001b[39m]\n\u001b[1;32m    159\u001b[0m \u001b[39melse\u001b[39;00m:\n\u001b[0;32m--> 160\u001b[0m     \u001b[39mself\u001b[39;49m\u001b[39m.\u001b[39;49mbypass_age_gate()\n\u001b[1;32m    161\u001b[0m     \u001b[39mreturn\u001b[39;00m \u001b[39mself\u001b[39m\u001b[39m.\u001b[39mvid_info[\u001b[39m'\u001b[39m\u001b[39mstreamingData\u001b[39m\u001b[39m'\u001b[39m]\n",
      "File \u001b[0;32m~/Desktop/intel/kcci.intel.ai.project/.venv/lib/python3.10/site-packages/pytube/__main__.py:264\u001b[0m, in \u001b[0;36mYouTube.bypass_age_gate\u001b[0;34m(self)\u001b[0m\n\u001b[1;32m    261\u001b[0m \u001b[39m# If we still can't access the video, raise an exception\u001b[39;00m\n\u001b[1;32m    262\u001b[0m \u001b[39m# (tier 3 age restriction)\u001b[39;00m\n\u001b[1;32m    263\u001b[0m \u001b[39mif\u001b[39;00m playability_status \u001b[39m==\u001b[39m \u001b[39m'\u001b[39m\u001b[39mUNPLAYABLE\u001b[39m\u001b[39m'\u001b[39m:\n\u001b[0;32m--> 264\u001b[0m     \u001b[39mraise\u001b[39;00m exceptions\u001b[39m.\u001b[39mAgeRestrictedError(\u001b[39mself\u001b[39m\u001b[39m.\u001b[39mvideo_id)\n\u001b[1;32m    266\u001b[0m \u001b[39mself\u001b[39m\u001b[39m.\u001b[39m_vid_info \u001b[39m=\u001b[39m innertube_response\n",
      "\u001b[0;31mAgeRestrictedError\u001b[0m: 6ZUIwj3FgUY is age restricted, and can't be accessed without logging in."
     ]
    }
   ],
   "source": [
    "# Streams\n",
    "for i, item in enumerate(youtube_clip.streams): # streams의 목록들을 인덱스와 item로 반환\n",
    "    print(f\"[1]: {item}\")   # [1] {i}\n"
   ]
  },
  {
   "cell_type": "code",
   "execution_count": 22,
   "metadata": {},
   "outputs": [
    {
     "name": "stdout",
     "output_type": "stream",
     "text": [
      "Downloaded!\n"
     ]
    },
    {
     "data": {
      "text/plain": [
       "'/home/intel/Desktop/intel/kcci.intel.ai.project/Class02/python-parallelism/videos/출시 1년도 되지 않은 카트라이더 드리프트는 왜 망해갈까 feat리버스.mp4'"
      ]
     },
     "execution_count": 22,
     "metadata": {},
     "output_type": "execute_result"
    }
   ],
   "source": [
    "# 특정한 비디오 스트림을 지정해서 다운로드를 수행합니다. 필터링하는 다양한 방법들은 아래의 링크를 참조하세요.\n",
    "# https://pytube.io/en/latest/api.html?highlight=highest%20resolution#streamquery-object\n",
    "\n",
    "download_dir = \"videos\"\n",
    "\n",
    "# E.g. download the first in progressive mp4 file.\n",
    "#youtube_clip.streams.filter(progressive=True, file_extension='mp4').first().download(download_dir)\n",
    "\n",
    "# E.g. download a highest resolution video.\n",
    "youtube_clip.streams.get_highest_resolution().download(download_dir)"
   ]
  },
  {
   "cell_type": "markdown",
   "metadata": {},
   "source": [
    "### Callbacks\n",
    "\n",
    "다운로드의 진행과 완료때 호출 될 callback을 지정할 수 있습니다. 다음과 같이 생성자에서 on_progress_callback 혹은 on_complete_callback에 callback 함수를 연결해 주면 됩니다.\n",
    "\n",
    "```\n",
    "class YouTube:\n",
    "    \"\"\"Core developer interface for pytube.\"\"\"\n",
    "\n",
    "    def __init__(\n",
    "        self,\n",
    "        url: str,\n",
    "        on_progress_callback: Optional[Callable[[Any, bytes, int], None]] = None,\n",
    "        on_complete_callback: Optional[Callable[[Any, Optional[str]], None]] = None,\n",
    "        proxies: Dict[str, str] = None,\n",
    "        use_oauth: bool = False,\n",
    "        allow_oauth_cache: bool = True\n",
    "    ):\n",
    "```"
   ]
  },
  {
   "cell_type": "code",
   "execution_count": 20,
   "metadata": {},
   "outputs": [
    {
     "name": "stdout",
     "output_type": "stream",
     "text": [
      "Progress: about 71 MB remaining\n",
      "Progress: about 62 MB remaining\n",
      "Progress: about 53 MB remaining\n",
      "Progress: about 44 MB remaining\n",
      "Progress: about 35 MB remaining\n",
      "Progress: about 26 MB remaining\n",
      "Progress: about 17 MB remaining\n",
      "Progress: about 8 MB remaining\n",
      "Progress: about 0 MB remaining\n",
      "Downloaded!\n"
     ]
    },
    {
     "data": {
      "text/plain": [
       "'/home/intel/Desktop/intel/kcci.intel.ai.project/Class02/python-parallelism/videos/출시 1년도 되지 않은 카트라이더 드리프트는 왜 망해갈까 feat리버스.mp4'"
      ]
     },
     "execution_count": 20,
     "metadata": {},
     "output_type": "execute_result"
    }
   ],
   "source": [
    "# 출시 1년도 되지 않은 카트라이더 드리프트는 왜 망해갈까\n",
    "video_url = \"https://www.youtube.com/watch?v=r8y7RjlhkNE\"\n",
    "\n",
    "# Progress callback\n",
    "def on_progress(stream, chunk, bytes_remaining):\n",
    "    print(f\"Progress: about {bytes_remaining // (1024*1024)} MB remaining\")\n",
    "\n",
    "# Completion callback\n",
    "def on_complete(stream, file_handle):\n",
    "    print(\"Downloaded!\")\n",
    "\n",
    "youtube_clip = YouTube(video_url,\n",
    "                       on_progress_callback=on_progress,\n",
    "                       on_complete_callback=on_complete)\n",
    "\n",
    "youtube_clip.streams.get_highest_resolution().download(\"videos\")"
   ]
  }
 ],
 "metadata": {
  "kernelspec": {
   "display_name": ".venv",
   "language": "python",
   "name": "python3"
  },
  "language_info": {
   "codemirror_mode": {
    "name": "ipython",
    "version": 3
   },
   "file_extension": ".py",
   "mimetype": "text/x-python",
   "name": "python",
   "nbconvert_exporter": "python",
   "pygments_lexer": "ipython3",
   "version": "3.10.12"
  },
  "orig_nbformat": 4
 },
 "nbformat": 4,
 "nbformat_minor": 2
}
